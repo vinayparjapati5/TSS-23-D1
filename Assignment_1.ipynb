{
  "nbformat": 4,
  "nbformat_minor": 0,
  "metadata": {
    "colab": {
      "provenance": [],
      "include_colab_link": true
    },
    "kernelspec": {
      "name": "python3",
      "display_name": "Python 3"
    },
    "language_info": {
      "name": "python"
    }
  },
  "cells": [
    {
      "cell_type": "markdown",
      "metadata": {
        "id": "view-in-github",
        "colab_type": "text"
      },
      "source": [
        "<a href=\"https://colab.research.google.com/github/vinayparjapati5/TSS-23-D1-Assignment-1-/blob/main/Assignment_1.ipynb\" target=\"_parent\"><img src=\"https://colab.research.google.com/assets/colab-badge.svg\" alt=\"Open In Colab\"/></a>"
      ]
    },
    {
      "cell_type": "markdown",
      "source": [
        "---\n",
        "## **Assignment: 1**\n",
        "---\n",
        "\n"
      ],
      "metadata": {
        "id": "XR-GLD5U2DG2"
      }
    },
    {
      "cell_type": "markdown",
      "source": [
        "Q1.  L is a list defined as L= [11, 12, 13, 14].\n",
        "\n",
        "(i) WAP to add 50 and 60 to L.\n",
        "\n",
        "(ii) WAP to remove 11 and 13from L.\n",
        "\n",
        "(iii) WAP to sort L in ascending order.\n",
        "\n",
        "(iv) WAP to sort L in descending order.\n",
        "\n",
        "(v) WAP to search for 13 in L.\n",
        "\n",
        "(vi) WAP to count the number of elements present in L.\n",
        "\n",
        "(vii) WAP to sum all the elements in L.\n",
        "\n",
        "(viii) WAP to sum all ODD numbers in L.\n",
        "\n",
        "(ix) WAP to sum all EVEN numbers in L.\n",
        "\n",
        "(x) WAP to sum all PRIME numbers in L.\n",
        "\n",
        "(xi) WAP to clear all the elements in L.\n",
        "\n",
        "(xii) WAP to delete L."
      ],
      "metadata": {
        "id": "Ju7nHVLIGDP_"
      }
    },
    {
      "cell_type": "code",
      "execution_count": null,
      "metadata": {
        "colab": {
          "base_uri": "https://localhost:8080/"
        },
        "id": "YkJc4T3jFsvU",
        "outputId": "ae9bf05d-1dfd-49c0-e04d-4705927b092f"
      },
      "outputs": [
        {
          "output_type": "stream",
          "name": "stdout",
          "text": [
            "[11, 12, 13, 14, 50, 60]\n"
          ]
        }
      ],
      "source": [
        "L = [11,12,13,14]\n",
        "L.append(50);\n",
        "L.append(60);\n",
        "print(L);"
      ]
    },
    {
      "cell_type": "code",
      "source": [
        "L.remove(11);\n",
        "L.remove(13);\n",
        "print(L);"
      ],
      "metadata": {
        "colab": {
          "base_uri": "https://localhost:8080/"
        },
        "id": "dgavyuaFGB-4",
        "outputId": "c37957f0-8a06-4dfa-e826-339a84da22b2"
      },
      "execution_count": null,
      "outputs": [
        {
          "output_type": "stream",
          "name": "stdout",
          "text": [
            "[12, 14, 50, 60]\n"
          ]
        }
      ]
    },
    {
      "cell_type": "code",
      "source": [
        "L.sort()\n",
        "print(\"sort in ascending order\")\n",
        "print(L);\n",
        "print(\"sort in descending order\")\n",
        "L.sort(reverse = True)\n",
        "print(L)"
      ],
      "metadata": {
        "colab": {
          "base_uri": "https://localhost:8080/"
        },
        "id": "vKZMRHOCGkPK",
        "outputId": "5d8d14ed-6f9e-4fe4-faa2-60cf6211eb38"
      },
      "execution_count": null,
      "outputs": [
        {
          "output_type": "stream",
          "name": "stdout",
          "text": [
            "sort in ascending order\n",
            "[12, 14, 50, 60]\n",
            "sort in descending order\n",
            "[60, 50, 14, 12]\n"
          ]
        }
      ]
    },
    {
      "cell_type": "code",
      "source": [
        "if(13 in L):\n",
        "  print(\"13 is present in L\");\n",
        "else:\n",
        "  print(\"13 is not present in L\");\n"
      ],
      "metadata": {
        "colab": {
          "base_uri": "https://localhost:8080/"
        },
        "id": "jPR48jFGH0N-",
        "outputId": "995e1923-0939-434e-c517-8928ddc69f2b"
      },
      "execution_count": null,
      "outputs": [
        {
          "output_type": "stream",
          "name": "stdout",
          "text": [
            "13 is not present in L\n"
          ]
        }
      ]
    },
    {
      "cell_type": "code",
      "source": [
        "print(\"length of list\",len(L))\n",
        "print(\"sum of list\",sum(L))\n"
      ],
      "metadata": {
        "colab": {
          "base_uri": "https://localhost:8080/"
        },
        "id": "e9jrZzvjILYq",
        "outputId": "ea6d4890-b005-4773-a44c-af3d04f1026b"
      },
      "execution_count": null,
      "outputs": [
        {
          "output_type": "stream",
          "name": "stdout",
          "text": [
            "length of list 4\n",
            "sum of list 136\n"
          ]
        }
      ]
    },
    {
      "cell_type": "code",
      "source": [
        "sum1 = 0;\n",
        "sum2 = 0;\n",
        "for i in L:\n",
        "  if(i%2 ==0):\n",
        "    sum1 = sum1+i;\n",
        "  else:\n",
        "    sum2 = sum2+i;\n",
        "print(\"sum of even digits\",sum1);\n",
        "print(\"sum of odd digits\",sum2);"
      ],
      "metadata": {
        "colab": {
          "base_uri": "https://localhost:8080/"
        },
        "id": "8zXL5q8-IoDj",
        "outputId": "b07815b1-9a3a-4d97-b338-bcddc6310f53"
      },
      "execution_count": null,
      "outputs": [
        {
          "output_type": "stream",
          "name": "stdout",
          "text": [
            "sum of even digits 136\n",
            "sum of odd digits 0\n"
          ]
        }
      ]
    },
    {
      "cell_type": "code",
      "source": [
        "sum3 = 0;\n",
        "for i in L:\n",
        "  flag = 1;\n",
        "  k = int(i/2);\n",
        "  for j in range(2,k):\n",
        "    if(i%j== 0):\n",
        "      flag = 0;\n",
        "  if(flag == 1):\n",
        "    sum3 = sum3 + i;\n",
        "\n",
        "print(\"sum of prime no in list\",sum3);\n"
      ],
      "metadata": {
        "colab": {
          "base_uri": "https://localhost:8080/"
        },
        "id": "hqrMBLm9JC2x",
        "outputId": "37f30cfd-4b79-4477-beb5-69e412145bab"
      },
      "execution_count": null,
      "outputs": [
        {
          "output_type": "stream",
          "name": "stdout",
          "text": [
            "sum of prime no in list 0\n"
          ]
        }
      ]
    },
    {
      "cell_type": "code",
      "source": [
        "L.clear();\n",
        "print(L);"
      ],
      "metadata": {
        "colab": {
          "base_uri": "https://localhost:8080/"
        },
        "id": "TAnfdlOOJLwj",
        "outputId": "872815e3-4d18-4aec-cecc-ebe1de720ad0"
      },
      "execution_count": null,
      "outputs": [
        {
          "output_type": "stream",
          "name": "stdout",
          "text": [
            "[]\n"
          ]
        }
      ]
    },
    {
      "cell_type": "code",
      "source": [
        "del L"
      ],
      "metadata": {
        "id": "xyDgf6neJimU"
      },
      "execution_count": null,
      "outputs": []
    },
    {
      "cell_type": "markdown",
      "source": [
        "Q2. D is a dictionary defined as D= {1:5.6, 2:7.8, 3:6.6, 4:8.7, 5:7.7}.\n",
        "\n",
        "(i) WAP to add new entry in D; key=8 and value is 8.8\n",
        "\n",
        "(ii) WAP to remove key=2.\n",
        "\n",
        "(iii) WAP to check weather 6 key is present in D.\n",
        "\n",
        "(iv) WAP to count the number of elements present in D.\n",
        "\n",
        "(v) WAP to add all the values present D.\n",
        "\n",
        "(vi) WAP to update the value of 3 to 7.1.\n",
        "\n",
        "(vii) WAP to clear the dictionary.\n",
        "\n"
      ],
      "metadata": {
        "id": "Mtmv_p9lLUJJ"
      }
    },
    {
      "cell_type": "code",
      "source": [
        "D = {1:5.6,2:7.6,3:6.6,4:8.7,5:7.7}\n",
        "D[8] = 8.8;\n",
        "print(D);\n",
        "del D[2];\n",
        "print(D);\n",
        "print(\"key 6 is in D\",6 in D);\n",
        "print(\"length of D\",len(D));\n",
        "print(\"sum of values in D\",sum(D.values()));\n",
        "D[3] = 7.1;\n",
        "print(\"updated D\",D);\n",
        "D.clear();\n",
        "print(\"After clearing dictionary D\",D);"
      ],
      "metadata": {
        "colab": {
          "base_uri": "https://localhost:8080/"
        },
        "id": "oko9uxemLWbP",
        "outputId": "2467029a-ca5a-431e-bec5-1290446252e2"
      },
      "execution_count": null,
      "outputs": [
        {
          "output_type": "stream",
          "name": "stdout",
          "text": [
            "{1: 5.6, 2: 7.6, 3: 6.6, 4: 8.7, 5: 7.7, 8: 8.8}\n",
            "{1: 5.6, 3: 6.6, 4: 8.7, 5: 7.7, 8: 8.8}\n",
            "key 6 is in D False\n",
            "length of D 5\n",
            "sum of values in D 37.4\n",
            "updated D {1: 5.6, 3: 7.1, 4: 8.7, 5: 7.7, 8: 8.8}\n",
            "After clearing dictionary D {}\n"
          ]
        }
      ]
    },
    {
      "cell_type": "markdown",
      "source": [
        "Q3. S1 is a set defined as S1= [10, 20, 30, 40, 50, 60].\n",
        "\n",
        " S2 is a set defined as S2= [40, 50, 60, 70, 80, 90].\n",
        "\n",
        "(i) WAP to add 55 and 66 in Set S1.\n",
        "\n",
        "(ii) WAP to remove 10 and 30 from Set S1.\n",
        "\n",
        "(iii) WAP to check whether 40 is present in S1.\n",
        "\n",
        "(iv) WAP to find the union between S1 and S2.\n",
        "\n",
        "(v) WAP to find the intersection between S1 and S2.\n",
        "\n",
        "(vi) WAP to find the S1 - S2.\n"
      ],
      "metadata": {
        "id": "Yk1VmF7xRPPW"
      }
    },
    {
      "cell_type": "code",
      "source": [
        "s1 = {10,20,30,40,50,60};\n",
        "s2 = {40,50,60,70,80,90};\n",
        "s1.add(55);\n",
        "s1.add(66);\n",
        "print(\"After adding\",s1);\n",
        "s1.remove(10);\n",
        "s1.remove(20);\n",
        "print(\"After removing Element\",s1);\n",
        "print(\"40 is present in s1\",40 in s1);\n",
        "print(\"union of set1 and set2\",s1.union(s2));\n",
        "print(\"intersection of set1 and set2\",s1&s2);\n",
        "print(\"difference of sets\",s1-s2);"
      ],
      "metadata": {
        "colab": {
          "base_uri": "https://localhost:8080/"
        },
        "id": "4jZqOTlxOAj1",
        "outputId": "afb9493c-37f9-4273-fbf5-751a5a021f08"
      },
      "execution_count": null,
      "outputs": [
        {
          "output_type": "stream",
          "name": "stdout",
          "text": [
            "After adding {50, 66, 20, 55, 40, 10, 60, 30}\n",
            "After removing Element {50, 66, 55, 40, 60, 30}\n",
            "40 is present in s1 True\n",
            "union of set1 and set2 {66, 70, 40, 80, 50, 55, 90, 60, 30}\n",
            "intersection of set1 and set2 {40, 50, 60}\n",
            "difference of sets {66, 30, 55}\n"
          ]
        }
      ]
    },
    {
      "cell_type": "markdown",
      "source": [
        "Q4. Write the following program.\n",
        "\n",
        "(i) WAP to print 100 random strings whose length between 6 and 8.\n",
        "\n",
        "(ii) WAP to print all prime numbers between 600 and 800.\n",
        "\n",
        "(iii) WAP to print all numbers between 100 and 1000 that are divisible by 7 and 9.\n"
      ],
      "metadata": {
        "id": "njK2FSdURVJd"
      }
    },
    {
      "cell_type": "code",
      "source": [
        "import string as s\n",
        "import random as r\n",
        "for i in range(1,101):\n",
        "  word = r.sample(s.ascii_letters,r.randint(6,8));\n",
        "  word1 = \"\".join(word)\n",
        "  print(word1);\n"
      ],
      "metadata": {
        "colab": {
          "base_uri": "https://localhost:8080/"
        },
        "id": "1OUioYbCPR6T",
        "outputId": "0d042d3a-412a-4267-dae6-719fce0a308e"
      },
      "execution_count": null,
      "outputs": [
        {
          "output_type": "stream",
          "name": "stdout",
          "text": [
            "nkNBHtJO\n",
            "APCkFJ\n",
            "GkXlpPK\n",
            "FGhOlPp\n",
            "QXDnlO\n",
            "HnhlEb\n",
            "ySkXbl\n",
            "xHUOhJAv\n",
            "xrLfdm\n",
            "CIubyF\n",
            "WLFhSQ\n",
            "GufcpoQ\n",
            "JLcTiqQ\n",
            "FkytiVT\n",
            "DSVjTm\n",
            "CUNnWjmZ\n",
            "mEOZuw\n",
            "hkgADL\n",
            "jAbkDu\n",
            "ZwuVpbA\n",
            "DtpeElv\n",
            "VKtowIHs\n",
            "jguklb\n",
            "EkOviwN\n",
            "DVBujJE\n",
            "btqUNDrZ\n",
            "DcMaUzVs\n",
            "zmpbQfB\n",
            "hLRecaUv\n",
            "EYJjsQO\n",
            "XnzxseM\n",
            "VmqLfr\n",
            "jkHwqC\n",
            "woIfpakS\n",
            "TqxwpncS\n",
            "CxzQSy\n",
            "EGTcab\n",
            "qVXfRKzH\n",
            "hDIKmq\n",
            "DYiuqyR\n",
            "QlgRTa\n",
            "KsurXUez\n",
            "pMYicKfh\n",
            "AurWzJHm\n",
            "HwFAPEm\n",
            "fCKmbjx\n",
            "PwdRoYU\n",
            "PDyhxU\n",
            "BnwQuKes\n",
            "ahnfBm\n",
            "vLxmrRC\n",
            "lHrWRzeQ\n",
            "IqRhtQUd\n",
            "QyAUSVKh\n",
            "fIQkOucl\n",
            "dpsRMVa\n",
            "jXFzgfK\n",
            "sJRMxcT\n",
            "sbYQEcRx\n",
            "apbkmLcZ\n",
            "tKZknaw\n",
            "JwTDeulf\n",
            "XVbxUOns\n",
            "MCpreWm\n",
            "MczIKDeQ\n",
            "tjrTep\n",
            "wYvGhp\n",
            "YFmuTZyB\n",
            "ZUheqoO\n",
            "eSdkIx\n",
            "bxAkWso\n",
            "ZtbqeKCs\n",
            "UjBspZ\n",
            "tzxbnLaW\n",
            "AyCeYDVz\n",
            "OSwWcy\n",
            "BPXbEeW\n",
            "VTMwCHE\n",
            "bPtLpr\n",
            "KuGtNw\n",
            "ZHKqGBg\n",
            "HbGcqS\n",
            "rvjHWG\n",
            "nYwKJMI\n",
            "sMESIc\n",
            "OIdgfLa\n",
            "JdMvnZQY\n",
            "GLAqScJB\n",
            "lsfgRmdW\n",
            "TGUWfHDF\n",
            "zQBFVxD\n",
            "vweSIhn\n",
            "ESMFLu\n",
            "fqugjya\n",
            "MdOUJQm\n",
            "mrzBbuh\n",
            "UwfHYIkm\n",
            "kZEVHF\n",
            "KHAXQw\n",
            "orIHhGC\n"
          ]
        }
      ]
    },
    {
      "cell_type": "code",
      "source": [
        "def isprime(n):\n",
        "  for i in range(2,n//2+1):\n",
        "    if(n%i ==0):\n",
        "      return 0;\n",
        "  return 1;\n",
        "for i in range(600,801):\n",
        "  if(isprime(i)==1):\n",
        "    print(i);\n"
      ],
      "metadata": {
        "colab": {
          "base_uri": "https://localhost:8080/"
        },
        "id": "_Gadq2bUUtI5",
        "outputId": "b5437c95-5730-4430-da9c-18fe7eb62e05"
      },
      "execution_count": null,
      "outputs": [
        {
          "output_type": "stream",
          "name": "stdout",
          "text": [
            "601\n",
            "607\n",
            "613\n",
            "617\n",
            "619\n",
            "631\n",
            "641\n",
            "643\n",
            "647\n",
            "653\n",
            "659\n",
            "661\n",
            "673\n",
            "677\n",
            "683\n",
            "691\n",
            "701\n",
            "709\n",
            "719\n",
            "727\n",
            "733\n",
            "739\n",
            "743\n",
            "751\n",
            "757\n",
            "761\n",
            "769\n",
            "773\n",
            "787\n",
            "797\n"
          ]
        }
      ]
    },
    {
      "cell_type": "code",
      "source": [
        "def isdivisble(n):\n",
        "  if(n%7==0 and n%9 ==0 ):\n",
        "    return 1;\n",
        "  return 0;\n",
        "\n",
        "\n",
        "for i in range(100,1001):\n",
        "  if(isdivisble(i)==1):\n",
        "    print(i)"
      ],
      "metadata": {
        "colab": {
          "base_uri": "https://localhost:8080/"
        },
        "id": "EaowKhXTVKeN",
        "outputId": "08f569ff-76b4-4fbe-efd1-a4144f000d4c"
      },
      "execution_count": null,
      "outputs": [
        {
          "output_type": "stream",
          "name": "stdout",
          "text": [
            "126\n",
            "189\n",
            "252\n",
            "315\n",
            "378\n",
            "441\n",
            "504\n",
            "567\n",
            "630\n",
            "693\n",
            "756\n",
            "819\n",
            "882\n",
            "945\n"
          ]
        }
      ]
    },
    {
      "cell_type": "markdown",
      "source": [
        "Q5. WAP to create two lists of 10 random numbers between 10 and 30; Find\n",
        "\n",
        "(i) Common numbers in the two lists\n",
        "\n",
        "(ii) Unique numbers in both the list\n",
        "\n",
        "(iii) Minimum in both the list\n",
        "\n",
        "(iv) Maximum in both the list\n",
        "\n",
        "(v) Sum of both the lists\n"
      ],
      "metadata": {
        "id": "dPy-871RVmUh"
      }
    },
    {
      "cell_type": "code",
      "source": [
        "import random as r\n",
        "def randomlist(L):\n",
        "  for i in range(1,11):\n",
        "    j = r.randint(10,30);\n",
        "    L.append(j);\n",
        "  return L;\n",
        "\n",
        "L1 = []\n",
        "L2 = []\n",
        "L1 = randomlist(L1);\n",
        "L2 = randomlist(L2);\n",
        "print(L1)\n",
        "print(L2)\n",
        "s1 = set(L1)\n",
        "s2 = set(L2)\n",
        "print(\"common numbers\",s1.intersection(s2));\n",
        "print(\"unique numbers in both lists\",s1-s2,s2-s1)\n",
        "print(\"minimum in both list L1\",min(s1),\"L2\",min(s2))\n",
        "print(\"Maximum in both list L1\",max(s1),\"L2\",max(s2))\n",
        "print(\"sum of list L1\",sum(L1),\"sum of list L2\",sum(s2))"
      ],
      "metadata": {
        "colab": {
          "base_uri": "https://localhost:8080/"
        },
        "id": "KXkLu9PyVtBM",
        "outputId": "17e9f2c1-2740-4e00-e6d3-54c9a6a04ac1"
      },
      "execution_count": null,
      "outputs": [
        {
          "output_type": "stream",
          "name": "stdout",
          "text": [
            "[17, 11, 21, 30, 15, 26, 20, 16, 24, 20]\n",
            "[11, 10, 27, 17, 22, 23, 11, 28, 22, 20]\n",
            "common numbers {17, 11, 20}\n",
            "unique numbers in both lists {15, 16, 21, 24, 26, 30} {10, 22, 23, 27, 28}\n",
            "minimum in both list L1 11 L2 10\n",
            "Maximum in both list L1 30 L2 28\n",
            "sum of list L1 200 sum of list L2 158\n"
          ]
        }
      ]
    },
    {
      "cell_type": "markdown",
      "source": [
        "Q6. WAP to create a list of 100 random numbers between 100 and 900. Count and print the:\n",
        "\n",
        "(i) All odd numbers\n",
        "\n",
        "(ii) All even numbers\n",
        "\n",
        "(iii) All prime numbers"
      ],
      "metadata": {
        "id": "Aq3oQUn_Ybwd"
      }
    },
    {
      "cell_type": "code",
      "source": [
        "import random as r\n",
        "def randomlist(L):\n",
        "  for i in range(1,101):\n",
        "    j = r.randint(100,900);\n",
        "    L.append(j);\n",
        "  return L;\n",
        "\n",
        "def isoddoreven(n):\n",
        "  if(n%2 != 0):\n",
        "    return 1;\n",
        "  return 0;\n",
        "\n",
        "L = []\n",
        "L1 = randomlist(L)\n",
        "print(\"length of list\",len(L1));\n",
        "print(\"odd numbers\");\n",
        "for i in L1:\n",
        "  if(isoddoreven(i)==1):\n",
        "    print(i);\n",
        "\n",
        "print(\"even numbers\");\n",
        "for i in L1:\n",
        "  if(isoddoreven(i)==0):\n",
        "    print(i);\n",
        "\n",
        "def isprime(n):\n",
        "  for i in range(2,n//2+1):\n",
        "    if(n%i ==0):\n",
        "      return 0;\n",
        "  return 1;\n",
        "\n",
        "print(\"prime numbers\");\n",
        "for i in L1:\n",
        "  if(isprime(i)==1):\n",
        "    print(i);"
      ],
      "metadata": {
        "colab": {
          "base_uri": "https://localhost:8080/"
        },
        "id": "ENOAlRllYgMh",
        "outputId": "8e04f386-468d-404d-c0a0-27b6a5848353"
      },
      "execution_count": null,
      "outputs": [
        {
          "output_type": "stream",
          "name": "stdout",
          "text": [
            "length of list 100\n",
            "odd numbers\n",
            "623\n",
            "437\n",
            "275\n",
            "457\n",
            "655\n",
            "263\n",
            "421\n",
            "797\n",
            "175\n",
            "385\n",
            "345\n",
            "463\n",
            "395\n",
            "377\n",
            "361\n",
            "731\n",
            "141\n",
            "121\n",
            "689\n",
            "251\n",
            "735\n",
            "751\n",
            "645\n",
            "789\n",
            "153\n",
            "461\n",
            "589\n",
            "215\n",
            "205\n",
            "403\n",
            "321\n",
            "443\n",
            "893\n",
            "447\n",
            "777\n",
            "433\n",
            "667\n",
            "709\n",
            "893\n",
            "425\n",
            "797\n",
            "177\n",
            "403\n",
            "167\n",
            "113\n",
            "811\n",
            "735\n",
            "423\n",
            "545\n",
            "even numbers\n",
            "498\n",
            "816\n",
            "356\n",
            "586\n",
            "172\n",
            "270\n",
            "832\n",
            "676\n",
            "382\n",
            "726\n",
            "896\n",
            "610\n",
            "790\n",
            "432\n",
            "830\n",
            "878\n",
            "314\n",
            "420\n",
            "210\n",
            "530\n",
            "698\n",
            "512\n",
            "638\n",
            "726\n",
            "836\n",
            "666\n",
            "322\n",
            "574\n",
            "664\n",
            "698\n",
            "488\n",
            "698\n",
            "476\n",
            "882\n",
            "894\n",
            "880\n",
            "110\n",
            "122\n",
            "352\n",
            "110\n",
            "508\n",
            "554\n",
            "574\n",
            "636\n",
            "364\n",
            "894\n",
            "772\n",
            "826\n",
            "854\n",
            "254\n",
            "246\n",
            "prime numbers\n",
            "457\n",
            "263\n",
            "421\n",
            "797\n",
            "463\n",
            "251\n",
            "751\n",
            "461\n",
            "443\n",
            "433\n",
            "709\n",
            "797\n",
            "167\n",
            "113\n",
            "811\n"
          ]
        }
      ]
    },
    {
      "cell_type": "markdown",
      "source": [
        "Q7. D is a dictionary defined as D={1:\"One\",2:\"Two\",3:\"Three\",4:\"Four\", 5:\"Five\"}.\n",
        "\n",
        " WAP to read all the keys and values from dictionary and write to the file in the given below format.\n",
        "\n",
        "Key1, Value1\n",
        "\n",
        "Key2, Value2\n",
        "\n",
        "Key3, Value3"
      ],
      "metadata": {
        "id": "uSBD2NE4Z3U4"
      }
    },
    {
      "cell_type": "code",
      "source": [
        "D={1:\"One\",2:\"Two\",3:\"Three\",4:\"Four\", 5:\"Five\"}\n",
        "fp =  open('result.txt','w')\n",
        "for i in D:\n",
        "  fp.write(\"key  \"+str(i)+\"  value  \"+str(D[i])+\"\\n\")\n",
        "fp.close()\n",
        "print(\"values written to file result.txt\");"
      ],
      "metadata": {
        "colab": {
          "base_uri": "https://localhost:8080/"
        },
        "id": "WsIr68NRZ2Hm",
        "outputId": "38e9af0c-c4bd-4659-f394-ca8b30983c40"
      },
      "execution_count": null,
      "outputs": [
        {
          "output_type": "stream",
          "name": "stdout",
          "text": [
            "values written to file result.txt\n"
          ]
        }
      ]
    },
    {
      "cell_type": "markdown",
      "source": [
        "Q8. L is a list defined as L={\"One\",\"Two\",\"Three\",\"Four\",\"Five\"}.\n",
        "\n",
        " WAP to count the length of reach element from a list and write to the file in the given below format:\n",
        "\n",
        "One, 3\n",
        "\n",
        "Two, 3\n",
        "\n",
        "Four, 4"
      ],
      "metadata": {
        "id": "XZfNqf-paVpE"
      }
    },
    {
      "cell_type": "code",
      "source": [
        "L = {\"One\",\"Two\",\"Three\",\"Four\",\"Five\"};\n",
        "fp = open('result1.txt','w')\n",
        "for i in L:\n",
        "  fp.write(str(i)+\" \"+str(len(i))+\"\\n\")\n",
        "fp.close()\n",
        "\n",
        "print(\"values written in file result1.txt\")"
      ],
      "metadata": {
        "id": "Rwm9b-OsbN5A",
        "colab": {
          "base_uri": "https://localhost:8080/"
        },
        "outputId": "9e2af59b-1e75-4318-eeae-7a537f8f137f"
      },
      "execution_count": null,
      "outputs": [
        {
          "output_type": "stream",
          "name": "stdout",
          "text": [
            "values written in file result1.txt\n"
          ]
        }
      ]
    },
    {
      "cell_type": "markdown",
      "source": [
        "Q9. Write to the file 100 random strings whose length between 10 and 15"
      ],
      "metadata": {
        "id": "fhGqf1l_aiEi"
      }
    },
    {
      "cell_type": "code",
      "source": [
        "import string as s\n",
        "import random as r\n",
        "fp = open('results2.txt','w')\n",
        "for i in range(1,101):\n",
        "  word = r.sample(s.ascii_letters,r.randint(10,15));\n",
        "  word1 = \"\".join(word)\n",
        "  fp.write(str(word1)+\"\\n\");"
      ],
      "metadata": {
        "id": "YHQBmq7tbNJb"
      },
      "execution_count": null,
      "outputs": []
    },
    {
      "cell_type": "markdown",
      "source": [
        "Q10. Write to the file all prime numbers between 600 and 800."
      ],
      "metadata": {
        "id": "l9UYKioHakKN"
      }
    },
    {
      "cell_type": "code",
      "source": [
        "def isprime(n):\n",
        "  for i in range(2,n//2+1):\n",
        "    if(n%i ==0):\n",
        "      return 0;\n",
        "  return 1;\n",
        "\n",
        "fp = open('results3.txt','w');\n",
        "for i in range(600,801):\n",
        "  if(isprime(i)==1):\n",
        "    fp.write(str(i)+\"\\n\");"
      ],
      "metadata": {
        "id": "MIrPiBqHbMmD"
      },
      "execution_count": null,
      "outputs": []
    },
    {
      "cell_type": "markdown",
      "source": [
        "Q11. WAP to calculate the time taken by a program"
      ],
      "metadata": {
        "id": "3ojVAgPFamGz"
      }
    },
    {
      "cell_type": "code",
      "source": [
        "import time\n",
        "start_time = time.time()\n",
        "\n",
        "def isprime(n):\n",
        "  for i in range(2,n//2+1):\n",
        "    if(n%i ==0):\n",
        "      return 0;\n",
        "  return 1;\n",
        "\n",
        "fp = open('results3.txt','w');\n",
        "for i in range(600,801):\n",
        "  if(isprime(i)==1):\n",
        "    fp.write(str(i)+\"\\n\");\n",
        "end_time = time.time()\n",
        "execution_time = end_time - start_time\n",
        "\n",
        "print(\"Execution time:\", execution_time, \"seconds\")"
      ],
      "metadata": {
        "id": "OnPKT5-KbL8R",
        "colab": {
          "base_uri": "https://localhost:8080/"
        },
        "outputId": "8edbdf19-4465-4d43-cdbe-756169c63fc1"
      },
      "execution_count": null,
      "outputs": [
        {
          "output_type": "stream",
          "name": "stdout",
          "text": [
            "Execution time: 0.0024902820587158203 seconds\n"
          ]
        }
      ]
    },
    {
      "cell_type": "markdown",
      "source": [
        "Q12. WAP to sort following number of elements in a list, calculate time taken and plot the graph\n",
        "![image.png](data:image/png;base64,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)"
      ],
      "metadata": {
        "id": "O-1--Jwian6k"
      }
    },
    {
      "cell_type": "code",
      "source": [
        "import time\n",
        "import random as r\n",
        "import matplotlib.pyplot as plt\n",
        "def sort_list(n):\n",
        "  numbers = [r.randint(1,1000) for _ in range(n)]\n",
        "  start_time = time.time()\n",
        "  sorted_numbers = sorted(numbers);\n",
        "  end_time = time.time();\n",
        "  execution_time = end_time-start_time\n",
        "  return execution_time\n",
        "\n",
        "num_elements = [5000,10000,15000,20000,25000]\n",
        "execution_times = []\n",
        "for n in num_elements:\n",
        "  execution_time = sort_list(n)\n",
        "  execution_times.append(execution_time)\n",
        "\n",
        "plt.plot(num_elements,execution_times)\n",
        "plt.xlabel('Number of elements')\n",
        "plt.ylabel('Execution Time (seconds)')\n",
        "plt.title('Sorting Execution Time')\n",
        "plt.show()"
      ],
      "metadata": {
        "id": "zYGRewkObLBi",
        "colab": {
          "base_uri": "https://localhost:8080/",
          "height": 472
        },
        "outputId": "69749e6b-31b2-4c9b-b184-85eae6da27fd"
      },
      "execution_count": null,
      "outputs": [
        {
          "output_type": "display_data",
          "data": {
            "text/plain": [
              "<Figure size 640x480 with 1 Axes>"
            ],
            "image/png": "[encoded data removed]"
          },
          "metadata": {}
        }
      ]
    },
    {
      "cell_type": "markdown",
      "source": [
        "Q13. WAP to create a dictionary of student marks in five subjects and you have to find the student\n",
        " having maximum and minimum average marks"
      ],
      "metadata": {
        "id": "DjJhbCqpbCW7"
      }
    },
    {
      "cell_type": "code",
      "source": [
        "student_marks = {\n",
        "    'A1': [9, 8, 9, 8, 9],\n",
        "    'A2': [7, 8, 8, 5, 5],\n",
        "    'A3': [9, 8, 9, 8, 9],\n",
        "    'A4': [8, 7, 8, 8, 8],\n",
        "    'A5': [8, 9, 8, 2, 6]\n",
        "}\n",
        "average_marks = {student: sum(marks)/len(marks) for student, marks in student_marks.items()}\n",
        "max_student = max(average_marks,key= average_marks.get)\n",
        "max_marks = average_marks[max_student]\n",
        "\n",
        "min_student = min(average_marks, key=average_marks.get)\n",
        "min_marks = average_marks[min_student]\n",
        "\n",
        "print(\"Student with maximum average marks:\")\n",
        "print(\"Name:\", max_student)\n",
        "print(\"Average Marks:\", max_marks)\n",
        "\n",
        "print(\"\\nStudent with minimum average marks:\")\n",
        "print(\"Name:\", min_student)\n",
        "print(\"Average Marks:\", min_marks)"
      ],
      "metadata": {
        "id": "GJNtb717bJ01",
        "colab": {
          "base_uri": "https://localhost:8080/"
        },
        "outputId": "d35b9460-1b06-4d07-de06-f090f7abb4ec"
      },
      "execution_count": null,
      "outputs": [
        {
          "output_type": "stream",
          "name": "stdout",
          "text": [
            "Student with maximum average marks:\n",
            "Name: A1\n",
            "Average Marks: 8.6\n",
            "\n",
            "Student with minimum average marks:\n",
            "Name: A2\n",
            "Average Marks: 6.6\n"
          ]
        }
      ]
    }
  ]
}